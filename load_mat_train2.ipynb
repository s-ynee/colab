{
  "nbformat": 4,
  "nbformat_minor": 0,
  "metadata": {
    "colab": {
      "name": "load-mat-train2",
      "provenance": [],
      "collapsed_sections": [],
      "authorship_tag": "ABX9TyO3JOWW6PoeHaxLcoqU8euu",
      "include_colab_link": true
    },
    "kernelspec": {
      "name": "python3",
      "display_name": "Python 3"
    },
    "language_info": {
      "name": "python"
    }
  },
  "cells": [
    {
      "cell_type": "markdown",
      "metadata": {
        "id": "view-in-github",
        "colab_type": "text"
      },
      "source": [
        "<a href=\"https://colab.research.google.com/github/s-ynee/colab/blob/main/load_mat_train2.ipynb\" target=\"_parent\"><img src=\"https://colab.research.google.com/assets/colab-badge.svg\" alt=\"Open In Colab\"/></a>"
      ]
    },
    {
      "cell_type": "markdown",
      "source": [
        "실험결과 파일(MATLAB .mat) 불러와서 데이터셋 전처리"
      ],
      "metadata": {
        "id": "EvmCYraXrLqL"
      }
    },
    {
      "cell_type": "code",
      "execution_count": null,
      "metadata": {
        "colab": {
          "base_uri": "https://localhost:8080/"
        },
        "id": "259HnRuiOR44",
        "outputId": "6e794679-cbba-4993-8d8c-4a15bef92093"
      },
      "outputs": [
        {
          "output_type": "stream",
          "name": "stdout",
          "text": [
            "<class 'dict'>\n",
            "__header__\n",
            "__version__\n",
            "__globals__\n",
            "x\n"
          ]
        }
      ],
      "source": [
        "import glob\n",
        "import imageio\n",
        "import matplotlib.pyplot as plt\n",
        "from sklearn import preprocessing\n",
        "import os\n",
        "import PIL\n",
        "from tensorflow.keras import layers, models\n",
        "from keras.models import Model\n",
        "from keras.models import Sequential\n",
        "from keras.layers import Input, Dense, Dropout, Activation, Flatten\n",
        "from keras.layers.convolutional import Convolution2D, MaxPooling2D,UpSampling2D\n",
        "from tensorflow.keras.layers import Conv2D, MaxPooling2D, Flatten, Dropout, Dense, BatchNormalization, Activation, GaussianNoise, LSTM\n",
        "from IPython import display\n",
        "import numpy as np\n",
        "import matplotlib.pylab as plt \n",
        "import scipy.io\n",
        "import tensorflow as tf\n",
        "\n",
        "mat_file_name_x =\"x.mat\"\n",
        "mat_file_x = scipy.io.loadmat(mat_file_name_x)\n",
        "mat_file_name_y =\"y.mat\"\n",
        "mat_file_y = scipy.io.loadmat(mat_file_name_y)\n",
        "\n",
        "print(type(mat_file_x))\n",
        "\n",
        "for i in mat_file_x:\n",
        "  print(i)"
      ]
    },
    {
      "cell_type": "code",
      "source": [
        "mat_file_value_x = mat_file_x[mat_file_name_x[:-4]]\n",
        "\n",
        "print(min(mat_file_value_x[0]))\n",
        "print(max(mat_file_value_x[0]))\n",
        "mat_file_value_x = (mat_file_value_x-min(mat_file_value_x[0]))/(max(mat_file_value_x[0])-min(mat_file_value_x[0]))\n",
        "\n",
        "print(\"size :\",len(mat_file_value_x), \"X\", len(mat_file_value_x[0]))\n",
        "mat_file_value_y = mat_file_y[mat_file_name_y[:-4]]\n",
        "print(\"size :\",len(mat_file_value_y), \"X\", len(mat_file_value_y[0]))"
      ],
      "metadata": {
        "colab": {
          "base_uri": "https://localhost:8080/"
        },
        "id": "BGEjdNMKOoIj",
        "outputId": "92ca2d8d-9b05-4ffd-853a-c639f41f7014"
      },
      "execution_count": null,
      "outputs": [
        {
          "output_type": "stream",
          "name": "stdout",
          "text": [
            "-5.414261750151804\n",
            "4.667654437273463\n",
            "size : 1 X 1568\n",
            "size : 1 X 1568\n"
          ]
        }
      ]
    },
    {
      "cell_type": "code",
      "source": [
        "#oversampling\n",
        "\n",
        "x =[]\n",
        "y =[]\n",
        "\n",
        "up =2\n",
        "\n",
        "for i in range(1568):\n",
        "  for _ in range(up):\n",
        "    x.append(mat_file_value_x[0][i])\n",
        "    \n",
        "    y.append(mat_file_value_y[0][i])\n",
        "  # for _ in range(28):\n",
        "  x.append(0)\n",
        "  y.append(0)\n",
        "\n"
      ],
      "metadata": {
        "id": "Gdcjz92Iq--8"
      },
      "execution_count": null,
      "outputs": []
    },
    {
      "cell_type": "code",
      "source": [
        "# x_train_img =[]\n",
        "# temp_img = np.zeros((28,28,1))\n",
        "\n",
        "\n",
        "# print(temp_img.shape)\n",
        "# plt.imshow(temp_img[:,:,0])\n"
      ],
      "metadata": {
        "id": "RB51_gbDugtV"
      },
      "execution_count": null,
      "outputs": []
    },
    {
      "cell_type": "markdown",
      "source": [
        ""
      ],
      "metadata": {
        "id": "PFAuxZN4rRZU"
      }
    },
    {
      "cell_type": "code",
      "source": [
        "mat_file_x =[]\n",
        "mat_file_y =[]\n",
        "for i in range(0,len(x)):\n",
        "  mat_file_x = np.append(mat_file_x,i)\n",
        "  mat_file_y = np.append(mat_file_y,i)\n",
        "\n",
        "\n",
        "plt.title(mat_file_name_x[:-4])\n",
        "plt.plot(mat_file_x, x)\n",
        "plt.title(mat_file_name_y[:-4])\n",
        "plt.plot(mat_file_y, y)\n",
        "plt.show()"
      ],
      "metadata": {
        "colab": {
          "base_uri": "https://localhost:8080/",
          "height": 302
        },
        "id": "rZRYGuYEOyDs",
        "outputId": "cd646c5e-34f1-493b-a642-68b7539e35df"
      },
      "execution_count": null,
      "outputs": [
        {
          "output_type": "display_data",
          "data": {
            "text/plain": [
              "<Figure size 432x288 with 1 Axes>"
            ],
            "image/png": "[encoded data removed]"
          },
          "metadata": {
            "needs_background": "light"
          }
        }
      ]
    },
    {
      "cell_type": "code",
      "source": [
        "alpha = int(len(x)/28/28)\n",
        "x_arr = np.array(x)\n",
        "x_reshaped = x_arr.reshape(alpha, 28, 28, 1)\n",
        "print(x_reshaped.shape)\n",
        "# mean = 4.67, var = 3.83\n",
        "\n",
        "y_arr = np.array(y)\n",
        "y_reshaped = y_arr.reshape(alpha, 28, 28, 1)\n",
        "print(y_reshaped.shape)"
      ],
      "metadata": {
        "colab": {
          "base_uri": "https://localhost:8080/"
        },
        "id": "_nvH2yE0W3wn",
        "outputId": "e953e9d2-8bbb-4187-fa9f-3bdd047ff0b8"
      },
      "execution_count": null,
      "outputs": [
        {
          "output_type": "stream",
          "name": "stdout",
          "text": [
            "(6, 28, 28, 1)\n",
            "(6, 28, 28, 1)\n"
          ]
        }
      ]
    },
    {
      "cell_type": "markdown",
      "source": [
        "**  데이터 나누기**"
      ],
      "metadata": {
        "id": "vFy1ddvZB4ht"
      }
    },
    {
      "cell_type": "code",
      "source": [
        "\n",
        "\n",
        "train_rate = 0.6\n",
        "\n",
        "n_train = int(alpha * train_rate)\n",
        "n_test = int(alpha * (1 - train_rate))\n",
        "print(n_train)\n",
        "print(n_test)\n",
        "x_train = x_reshaped[0: n_train]\n",
        "x_test = x_reshaped[n_train:]\n",
        "\n",
        "y_train = y_reshaped[0: n_train]\n",
        "y_test = y_reshaped[n_train:]\n",
        "\n",
        "print(x_train.shape)\n",
        "print(x_test.shape)"
      ],
      "metadata": {
        "colab": {
          "base_uri": "https://localhost:8080/"
        },
        "id": "EQVZZQ70B2aX",
        "outputId": "4dcf8a01-0fcc-45ac-fa59-f5ea1f23e58c"
      },
      "execution_count": null,
      "outputs": [
        {
          "output_type": "stream",
          "name": "stdout",
          "text": [
            "3\n",
            "2\n",
            "(3, 28, 28, 1)\n",
            "(3, 28, 28, 1)\n"
          ]
        }
      ]
    },
    {
      "cell_type": "code",
      "source": [
        "# plt.subplot(1,3,1), plt.imshow(x_reshaped[0, :, :, 0],cmap='gray')\n",
        "# plt.subplot(1,3,2), plt.imshow(x_train[0, :, :, 0],cmap='gray')\n",
        "# plt.subplot(1,3,3), plt.imshow(x_test[0, :, :, 0],cmap='gray')\n",
        "\n",
        "\n",
        "for i in range(0, n_train):\n",
        "  plt.subplot(2,n_train,i+1), plt.imshow(x_train[i, :, :, 0],cmap='gray')\n",
        "  plt.subplot(2,n_train,n_train+i+1), plt.imshow(y_train[i, :, :, 0],cmap='gray')"
      ],
      "metadata": {
        "colab": {
          "base_uri": "https://localhost:8080/",
          "height": 288
        },
        "id": "nQkQuIpV5V_N",
        "outputId": "7d5939e2-83d0-4fd1-e435-07dd5238ad21"
      },
      "execution_count": null,
      "outputs": [
        {
          "output_type": "display_data",
          "data": {
            "text/plain": [
              "<Figure size 432x288 with 6 Axes>"
            ],
            "image/png": "[encoded data removed]"
          },
          "metadata": {
            "needs_background": "light"
          }
        }
      ]
    },
    {
      "cell_type": "code",
      "source": [
        "# plt.subplot(1,3,1), plt.imshow(y_reshaped[0, :, :, 0],cmap='gray')\n",
        "# plt.subplot(1,3,2), plt.imshow(y_train[0, :, :, 0],cmap='gray')\n",
        "# plt.subplot(1,3,3), plt.imshow(y_test[0, :, :, 0],cmap='gray')"
      ],
      "metadata": {
        "colab": {
          "base_uri": "https://localhost:8080/",
          "height": 204
        },
        "id": "L-Y18KMmO0We",
        "outputId": "1dd26749-7865-43fb-8cd5-3a981c64366c"
      },
      "execution_count": null,
      "outputs": [
        {
          "output_type": "execute_result",
          "data": {
            "text/plain": [
              "(<matplotlib.axes._subplots.AxesSubplot at 0x7f26e74ee990>,\n",
              " <matplotlib.image.AxesImage at 0x7f26e71cca50>)"
            ]
          },
          "metadata": {},
          "execution_count": 112
        },
        {
          "output_type": "display_data",
          "data": {
            "text/plain": [
              "<Figure size 432x288 with 3 Axes>"
            ],
            "image/png": "[encoded data removed]"
          },
          "metadata": {
            "needs_background": "light"
          }
        }
      ]
    },
    {
      "cell_type": "code",
      "source": [
        "BUFFER_SIZE = alpha\n",
        "print(alpha)\n",
        "BATCH_SIZE = 256\n",
        "\n",
        "train_dataset = tf.data.Dataset.from_tensor_slices(x_reshaped).batch(BATCH_SIZE)"
      ],
      "metadata": {
        "id": "OPKidZHOXDpS",
        "colab": {
          "base_uri": "https://localhost:8080/"
        },
        "outputId": "d82ba066-9a1b-4633-9a9c-bbf5b340fa93"
      },
      "execution_count": null,
      "outputs": [
        {
          "output_type": "stream",
          "name": "stdout",
          "text": [
            "8\n"
          ]
        }
      ]
    }
  ]
}